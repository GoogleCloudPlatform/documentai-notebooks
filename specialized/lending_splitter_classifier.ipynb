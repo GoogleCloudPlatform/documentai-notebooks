{
 "cells": [
  {
   "cell_type": "markdown",
   "id": "0cf14abe",
   "metadata": {},
   "source": [
    "# LDAI Splitter and Classifier (Synchronous v1)"
   ]
  },
  {
   "cell_type": "markdown",
   "id": "37bce79f",
   "metadata": {},
   "source": [
    "This notebook demonstrates how to use the Lending Document Splitter and Classifier to parse a single PDF file with multiple scanned files (specifically mortgage and federal tax related documents) to separate these on logical boundaries. In addition, this parser will also classify based on known document types."
   ]
  },
  {
   "cell_type": "code",
   "execution_count": null,
   "id": "9862c883",
   "metadata": {},
   "outputs": [],
   "source": [
    "# Install necessary Python libraries and restart your kernel after.\n",
    "!python -m pip install -r ../requirements.txt"
   ]
  },
  {
   "cell_type": "markdown",
   "id": "750b9704",
   "metadata": {},
   "source": [
    "## Set your Processor Variables"
   ]
  },
  {
   "cell_type": "code",
   "execution_count": null,
   "id": "f7ab1b08",
   "metadata": {},
   "outputs": [],
   "source": [
    "# TODO(developer): Fill these variables with your values before running the sample\n",
    "PROJECT_ID= 'YOUR_PROJECT_ID_HERE'\n",
    "LOCATION = 'us' # Format is 'us' or 'eu'\n",
    "PROCESSOR_ID = 'PROCESSOR_ID' # Create processor in Cloud Console\n",
    "FILE_PATH = 'PATH_TO_FILE'"
   ]
  },
  {
   "cell_type": "markdown",
   "id": "a2df1125",
   "metadata": {},
   "source": [
    "Now let's define the function to process the document with Document AI Python client "
   ]
  },
  {
   "cell_type": "code",
   "execution_count": null,
   "id": "e72f7ee5",
   "metadata": {},
   "outputs": [],
   "source": [
    "# Import necessary Python modules\n",
    "from google.cloud import documentai_v1beta3 as documentai"
   ]
  },
  {
   "cell_type": "code",
   "execution_count": null,
   "id": "7c381ab8",
   "metadata": {},
   "outputs": [],
   "source": [
    "def process_document_sample(\n",
    "    project_id: str, location: str, processor_id: str, file_path: str\n",
    "):\n",
    "\n",
    "    # Instantiates a client\n",
    "    opts = {\"api_endpoint\": f\"{location}-documentai.googleapis.com\"}\n",
    "    client = documentai.DocumentProcessorServiceClient(client_options=opts)\n",
    "\n",
    "    # The full resource name of the processor, e.g.:\n",
    "    # projects/project-id/locations/location/processor/processor-id\n",
    "    # You must create new processors in the Cloud Console first\n",
    "    name = f\"projects/{project_id}/locations/{location}/processors/{processor_id}\"\n",
    "\n",
    "    with open(file_path, \"rb\") as image:\n",
    "        image_content = image.read()\n",
    "\n",
    "    # Read the file into memory\n",
    "    document = {\"content\": image_content, \"mime_type\": \"application/pdf\"}\n",
    "\n",
    "    # Configure the process request\n",
    "    request = {\"name\": name, \"document\": document}\n",
    "\n",
    "    # Recognizes text entities in the PDF document\n",
    "    result = client.process_document(request=request)\n",
    "\n",
    "    document = result.document\n",
    "    print(\"Document processing complete.\")\n",
    "\n",
    "    # For a full list of Document object attributes, please reference this page: https://googleapis.dev/python/documentai/latest/_modules/google/cloud/documentai_v1beta3/types/document.html#Document\n",
    "\n",
    "    document_pages = document.pages\n",
    "\n",
    "    # Read the text recognition output from the processor\n",
    "    text = document.text\n",
    "    print(\"The document contains the following text (first 100 characters):\")\n",
    "    print(text[:100])\n",
    "    \n",
    "    # Read the detected page split from the processor\n",
    "    print(\"\\nThe processor detected the following page split entities:\")\n",
    "    print_pages_split(text, document)\n",
    "\n",
    "\n",
    "def print_pages_split(text: str, document: dict):\n",
    "    \"\"\"\n",
    "    Document AI identifies possible page splits\n",
    "    in document. This function converts page splits\n",
    "    to text snippets and prints it.    \n",
    "    \"\"\"\n",
    "    for i, entity in enumerate(document.entities):\n",
    "        confidence = entity.confidence\n",
    "        doc_type = entity.type_\n",
    "        text_entity = ''\n",
    "        for segment in entity.text_anchor.text_segments:\n",
    "            start = segment.start_index\n",
    "            end = segment.end_index\n",
    "            text_entity += text[start:end]\n",
    "        pages = [p.page for p in entity.page_anchor.page_refs]\n",
    "        print(f\"*** Document Type: {doc_type} ***\")\n",
    "        print(f\"*** Entity number: {i}, Split Confidence: {confidence} ***\")\n",
    "        print(f\"*** Pages numbers: {[p for p in pages]} ***\\nText snippet: {text_entity[:100]}\")"
   ]
  },
  {
   "cell_type": "markdown",
   "id": "8e7b2866",
   "metadata": {},
   "source": [
    "We can now run the processor on the sample multi-document pdf."
   ]
  },
  {
   "cell_type": "code",
   "execution_count": null,
   "id": "838707d2",
   "metadata": {},
   "outputs": [],
   "source": [
    "process_document_sample(PROJECT_ID, LOCATION, PROCESSOR_ID, FILE_PATH)"
   ]
  },
  {
   "cell_type": "markdown",
   "id": "36d6db82",
   "metadata": {},
   "source": [
    "---------\n",
    "Congratulations, you've successfully used the Document AI API to extract page logical boundaries from a multipage document. We encourage you to experiment with other documents."
   ]
  }
 ],
 "metadata": {
  "environment": {
   "name": "common-cpu.m65",
   "type": "gcloud",
   "uri": "gcr.io/deeplearning-platform-release/base-cpu:m65"
  },
  "kernelspec": {
   "display_name": "Python 3",
   "language": "python",
   "name": "python3"
  },
  "language_info": {
   "codemirror_mode": {
    "name": "ipython",
    "version": 3
   },
   "file_extension": ".py",
   "mimetype": "text/x-python",
   "name": "python",
   "nbconvert_exporter": "python",
   "pygments_lexer": "ipython3",
   "version": "3.7.10"
  }
 },
 "nbformat": 4,
 "nbformat_minor": 5
}
