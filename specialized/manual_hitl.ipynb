{
 "cells": [
  {
   "cell_type": "markdown",
   "source": [
    "# Manual Trigger of human review for any document type\r\n",
    "This notebook shows you how to manually trigger human review for any document, i.e. when you set \"No Filter\" in the \"Validation Filter\" setting of the human review configuration."
   ],
   "metadata": {
    "id": "L0J138mj7p1s"
   }
  },
  {
   "cell_type": "code",
   "execution_count": null,
   "source": [
    "# Install necessary Python libraries and restart your kernel after.\r\n",
    "!python -m pip install -r ../requirements.txt"
   ],
   "outputs": [],
   "metadata": {
    "colab": {
     "base_uri": "https://localhost:8080/"
    },
    "id": "_v0XtSwn7fmN",
    "outputId": "373b9379-f6ac-451a-e428-ad9219fb31d0"
   }
  },
  {
   "cell_type": "code",
   "execution_count": null,
   "source": [
    "from google.cloud import documentai_v1beta3 as documentai\r\n",
    "from PIL import Image, ImageDraw\r\n",
    "\r\n",
    "import os\r\n",
    "import pandas as pd"
   ],
   "outputs": [],
   "metadata": {
    "id": "Y8eO6Kcp7v2x"
   }
  },
  {
   "cell_type": "markdown",
   "source": [
    "## Set your processor variables "
   ],
   "metadata": {}
  },
  {
   "cell_type": "code",
   "execution_count": null,
   "source": [
    "PROJECT_ID = \"YOUR_PROJECT_ID_HERE\"\r\n",
    "LOCATION = \"us\"  # Format is 'us' or 'eu'\r\n",
    "PROCESSOR_ID = \"PROCESSOR_ID\"  # Create processor in Cloud Console\r\n",
    "PDF_PATH = \"../resources/procurement/invoices/invoice.pdf\" # Update to path of target document"
   ],
   "outputs": [],
   "metadata": {
    "id": "k3c1mTa6IOk3"
   }
  },
  {
   "cell_type": "markdown",
   "source": [
    "The following code calls the synchronous API and parses the form fields and values."
   ],
   "metadata": {}
  },
  {
   "cell_type": "code",
   "execution_count": null,
   "source": [
    "def review_document_sample():\r\n",
    "    # Instantiates a client\r\n",
    "    client_options = {\"api_endpoint\": \"{}-documentai.googleapis.com\".format(LOCATION)}\r\n",
    "    client = documentai.DocumentProcessorServiceClient(client_options=client_options)\r\n",
    "\r\n",
    "    # The full resource name of the processor, e.g.:\r\n",
    "    # projects/project-id/locations/location/processor/processor-id\r\n",
    "    # You must create new processors in the Cloud Console first\r\n",
    "    name = f\"projects/{PROJECT_ID}/locations/{LOCATION}/processors/{PROCESSOR_ID}/humanReviewConfig\"\r\n",
    "\r\n",
    "    with open(PDF_PATH, \"rb\") as image:\r\n",
    "        image_content = image.read()\r\n",
    "\r\n",
    "    # Read the file into memory\r\n",
    "    document = {\"content\": image_content, \"mime_type\": \"application/pdf\"}\r\n",
    "\r\n",
    "    # Configure the process request\r\n",
    "    request = {\"human_review_config\": name, \"document\": document}\r\n",
    "\r\n",
    "    # Recognizes text entities in the PDF document\r\n",
    "    result = client.review_document(request=request)\r\n",
    "    print (\"Triggered HITL long running operation: {}\".format(result.operation))\r\n",
    "\r\n",
    "    return result"
   ],
   "outputs": [],
   "metadata": {
    "id": "hO3yJpDoJ3Zf"
   }
  },
  {
   "cell_type": "code",
   "execution_count": null,
   "source": [
    "doc = review_document_sample()"
   ],
   "outputs": [],
   "metadata": {}
  },
  {
   "cell_type": "markdown",
   "source": [
    "# Human in the loop (HITL) Operation"
   ],
   "metadata": {}
  },
  {
   "cell_type": "markdown",
   "source": [
    "**Only complete this section if a HITL Operation is triggered.** </br>"
   ],
   "metadata": {}
  },
  {
   "cell_type": "code",
   "execution_count": null,
   "source": [
    "lro = \"LONG_RUNNING_OPERATION\" # LRO printed in the previous cell ex. projects/660199673046/locations/us/operations/174674963333130330"
   ],
   "outputs": [],
   "metadata": {}
  },
  {
   "cell_type": "code",
   "execution_count": null,
   "source": [
    "client = documentai.DocumentProcessorServiceClient()\r\n",
    "operation = client._transport.operations_client.get_operation(lro)\r\n",
    "if operation.done:\r\n",
    "    print(\"HITL location: {} \".format(str(operation.response.value)[5:-1]))\r\n",
    "else:\r\n",
    "    print('Waiting on human review.')"
   ],
   "outputs": [],
   "metadata": {}
  },
  {
   "cell_type": "code",
   "execution_count": null,
   "source": [
    "!gsutil cp \"HITL_LOCATION\" response.json # Location printed above ex. gs://gcs_bucket/receipt-output/174674963333130330/data-00001-of-00001.json"
   ],
   "outputs": [],
   "metadata": {}
  },
  {
   "cell_type": "code",
   "execution_count": null,
   "source": [
    "with open(\"response.json\", \"r\") as file:\r\n",
    "    import json\r\n",
    "    entities = {}\r\n",
    "    data = json.load(file)\r\n",
    "    for entity in data['entities']:\r\n",
    "        if 'mentionText' in entity:\r\n",
    "            entities[entity['type']] = entity['mentionText']\r\n",
    "        else:\r\n",
    "            entities[entity['type']] = \"\"\r\n",
    "    \r\n",
    "    for t in entities:\r\n",
    "        print(\"{} : {}\\n \".format(t, entities[t]))"
   ],
   "outputs": [],
   "metadata": {}
  }
 ],
 "metadata": {
  "colab": {
   "collapsed_sections": [],
   "name": "Manual Human Review Trigger.ipynb",
   "provenance": [],
   "toc_visible": true
  },
  "environment": {
   "name": "common-cpu.m65",
   "type": "gcloud",
   "uri": "gcr.io/deeplearning-platform-release/base-cpu:m65"
  },
  "kernelspec": {
   "display_name": "Python 3",
   "language": "python",
   "name": "python3"
  },
  "language_info": {
   "codemirror_mode": {
    "name": "ipython",
    "version": 3
   },
   "file_extension": ".py",
   "mimetype": "text/x-python",
   "name": "python",
   "nbconvert_exporter": "python",
   "pygments_lexer": "ipython3",
   "version": "3.7.10"
  }
 },
 "nbformat": 4,
 "nbformat_minor": 4
}